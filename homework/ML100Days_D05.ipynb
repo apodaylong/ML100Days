{
 "cells": [
  {
   "cell_type": "code",
   "execution_count": 1,
   "id": "rubber-cedar",
   "metadata": {},
   "outputs": [],
   "source": [
    "import numpy as np"
   ]
  },
  {
   "cell_type": "code",
   "execution_count": 2,
   "id": "parallel-marshall",
   "metadata": {},
   "outputs": [],
   "source": [
    "english_score = np.array([55,89,76,65,48,70])\n",
    "\n",
    "math_score = np.array([60,85,60,68,np.nan,60])\n",
    "\n",
    "chinese_score = np.array([65,90,82,72,66,77])"
   ]
  },
  {
   "cell_type": "code",
   "execution_count": 3,
   "id": "honey-memory",
   "metadata": {},
   "outputs": [],
   "source": [
    "# 上 3 列共六位同學的英文、數學、國文成績，第一個元素代表第一位同學，舉例第一位同學英文 55 分、\n",
    "###數學 60 分、國文 65 分，今天第五位同學因某原因沒來考試，導致數學成績缺值，運用上列數據回答下列問題。\n",
    "\n",
    "# 1.請計算各科成績平均、最大值、最小值、標準差，其中數學缺一筆資料可忽略？\n",
    "# 2.第五位同學補考數學後成績為 55，請計算補考後數學成績平均、最大值、最小值、標準差？\n",
    "# 3.用補考後資料找出與國文成績相關係數最高的學科？"
   ]
  },
  {
   "cell_type": "code",
   "execution_count": 4,
   "id": "suited-margin",
   "metadata": {},
   "outputs": [],
   "source": [
    "def got_ans(a):\n",
    "    x=np.nanmax(a)\n",
    "    y=np.nanmin(a)\n",
    "    z=np.nanstd(a)\n",
    "    return x,y,z"
   ]
  },
  {
   "cell_type": "code",
   "execution_count": 5,
   "id": "civil-consultancy",
   "metadata": {},
   "outputs": [
    {
     "name": "stdout",
     "output_type": "stream",
     "text": [
      "max min std (89, 48, 13.433995020924426) (85.0, 60.0, 9.707728879609279) (90, 65, 8.825468196582484)\n"
     ]
    }
   ],
   "source": [
    "en=got_ans(english_score)\n",
    "ma=got_ans(math_score)\n",
    "ch=got_ans(chinese_score)\n",
    "print(\"max\",\"min\",\"std\",en,ma,ch)"
   ]
  },
  {
   "cell_type": "code",
   "execution_count": 6,
   "id": "lucky-oklahoma",
   "metadata": {},
   "outputs": [
    {
     "data": {
      "text/plain": [
       "array([60., 85., 60., 68., 55., 60.])"
      ]
     },
     "execution_count": 6,
     "metadata": {},
     "output_type": "execute_result"
    }
   ],
   "source": [
    "math_score[np.isnan(math_score)]=55\n",
    "math_score"
   ]
  },
  {
   "cell_type": "code",
   "execution_count": 7,
   "id": "potential-edition",
   "metadata": {},
   "outputs": [],
   "source": [
    "new_ma=got_ans(math_score)"
   ]
  },
  {
   "cell_type": "code",
   "execution_count": 8,
   "id": "measured-mechanics",
   "metadata": {},
   "outputs": [
    {
     "data": {
      "text/plain": [
       "array([[1.        , 0.97792828],\n",
       "       [0.97792828, 1.        ]])"
      ]
     },
     "execution_count": 8,
     "metadata": {},
     "output_type": "execute_result"
    }
   ],
   "source": [
    "np.corrcoef(english_score,chinese_score)"
   ]
  },
  {
   "cell_type": "code",
   "execution_count": 9,
   "id": "therapeutic-birmingham",
   "metadata": {},
   "outputs": [
    {
     "data": {
      "text/plain": [
       "array([[1.        , 0.74056803],\n",
       "       [0.74056803, 1.        ]])"
      ]
     },
     "execution_count": 9,
     "metadata": {},
     "output_type": "execute_result"
    }
   ],
   "source": [
    "np.corrcoef(math_score,chinese_score)"
   ]
  },
  {
   "cell_type": "code",
   "execution_count": 10,
   "id": "cosmetic-dayton",
   "metadata": {},
   "outputs": [],
   "source": [
    "#ans3=english"
   ]
  },
  {
   "cell_type": "code",
   "execution_count": null,
   "id": "useful-genesis",
   "metadata": {},
   "outputs": [],
   "source": []
  }
 ],
 "metadata": {
  "kernelspec": {
   "display_name": "Python 3",
   "language": "python",
   "name": "python3"
  },
  "language_info": {
   "codemirror_mode": {
    "name": "ipython",
    "version": 3
   },
   "file_extension": ".py",
   "mimetype": "text/x-python",
   "name": "python",
   "nbconvert_exporter": "python",
   "pygments_lexer": "ipython3",
   "version": "3.8.5"
  }
 },
 "nbformat": 4,
 "nbformat_minor": 5
}
