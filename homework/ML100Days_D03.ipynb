{
 "cells": [
  {
   "cell_type": "code",
   "execution_count": 4,
   "id": "sexual-flexibility",
   "metadata": {},
   "outputs": [],
   "source": [
    "import numpy as np\n",
    "v1=200\n",
    "v0=20"
   ]
  },
  {
   "cell_type": "code",
   "execution_count": 6,
   "id": "strategic-governor",
   "metadata": {},
   "outputs": [
    {
     "data": {
      "text/plain": [
       "20.0"
      ]
     },
     "execution_count": 6,
     "metadata": {},
     "output_type": "execute_result"
    }
   ],
   "source": [
    "20*np.log10(v1/v0)"
   ]
  },
  {
   "cell_type": "code",
   "execution_count": 7,
   "id": "superior-medium",
   "metadata": {},
   "outputs": [
    {
     "data": {
      "text/plain": [
       "60.0"
      ]
     },
     "execution_count": 7,
     "metadata": {},
     "output_type": "execute_result"
    }
   ],
   "source": [
    "v2=20000\n",
    "Ans1=20*np.log10(v2/v0)\n",
    "Ans1"
   ]
  },
  {
   "cell_type": "code",
   "execution_count": 24,
   "id": "purple-being",
   "metadata": {},
   "outputs": [],
   "source": [
    "#30=20*np.log10(X/20)\n",
    "#50=20*np.log10(y/20)\n",
    "x=10**(30/20+np.log10(20))\n",
    "y=10**(50/20+np.log10(20))\n",
    "Ans2=x/y"
   ]
  },
  {
   "cell_type": "code",
   "execution_count": 25,
   "id": "unavailable-silence",
   "metadata": {},
   "outputs": [
    {
     "data": {
      "text/plain": [
       "0.09999999999999999"
      ]
     },
     "execution_count": 25,
     "metadata": {},
     "output_type": "execute_result"
    }
   ],
   "source": [
    "Ans2"
   ]
  },
  {
   "cell_type": "code",
   "execution_count": null,
   "id": "infectious-bulgarian",
   "metadata": {},
   "outputs": [],
   "source": []
  }
 ],
 "metadata": {
  "kernelspec": {
   "display_name": "Python 3",
   "language": "python",
   "name": "python3"
  },
  "language_info": {
   "codemirror_mode": {
    "name": "ipython",
    "version": 3
   },
   "file_extension": ".py",
   "mimetype": "text/x-python",
   "name": "python",
   "nbconvert_exporter": "python",
   "pygments_lexer": "ipython3",
   "version": "3.8.5"
  }
 },
 "nbformat": 4,
 "nbformat_minor": 5
}
